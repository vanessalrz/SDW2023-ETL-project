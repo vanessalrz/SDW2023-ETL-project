{
 "cells": [
  {
   "cell_type": "markdown",
   "metadata": {
    "id": "hxzXqlv5PkXj",
    "pycharm": {
     "name": "#%% md\n"
    }
   },
   "source": [
    "# Santander Dev Week 2023 (ETL com Python)"
   ]
  },
  {
   "cell_type": "markdown",
   "metadata": {
    "id": "GgSfAwg2S2Yz",
    "pycharm": {
     "name": "#%% md\n"
    }
   },
   "source": [
    "## Criando coleção de dados"
   ]
  },
  {
   "cell_type": "markdown",
   "metadata": {
    "id": "7Na653iCTz7w",
    "pycharm": {
     "name": "#%% md\n"
    }
   },
   "source": [
    "Caso não tenha as bibliotecas que serão utilizadas, instale usando o pip install, como por exemplo : `pip install faker`"
   ]
  },
  {
   "cell_type": "code",
   "execution_count": null,
   "metadata": {
    "id": "kRxlS1H7S6qH",
    "pycharm": {
     "name": "#%%\n"
    }
   },
   "outputs": [],
   "source": [
    "import json\n",
    "import random\n",
    "from faker import Faker\n",
    "from datetime import datetime, timedelta\n",
    "\n",
    "# Gera números inteiros aleatórios em um intervalo min, max_value com steps.\n",
    "def random_int_with_step(min_value, max_value, step):\n",
    "    return random.randrange(min_value, max_value + 1, step)\n",
    "\n",
    "\n",
    "fake = Faker(locale='pt_BR')  # Inicia o faker\n",
    "date_today = datetime.now()  # Data atual\n",
    "date_yesterday = date_today - timedelta(days=1) # Data ontem\n",
    "\n",
    "json_data = []\n",
    "\n",
    "for i in range(300):  # Vamos gerar 300 clientes com a mesma estrutura\n",
    "    # Gerando um gênero aleatório\n",
    "    gender = fake.random_element(elements=('masculino', 'feminino',\n",
    "                                           'prefiro nao identificar'))\n",
    "\n",
    "    # Gerando um nome aleatório com base no gênero\n",
    "    if gender == 'masculino':\n",
    "        first_name = fake.first_name_male()\n",
    "    elif gender == 'feminino':\n",
    "        first_name = fake.first_name_female()\n",
    "    else:\n",
    "        first_name = fake.first_name()\n",
    "\n",
    "    # Gerando um last_name aleatório\n",
    "    last_name = fake.last_name()\n",
    "\n",
    "    # Removendo espaços em branco do nome e sobrenome se houver, para o email\n",
    "    last_name_email = last_name.replace(' ', '')\n",
    "    first_name_email = first_name.replace(' ', '')\n",
    "\n",
    "    # Gerando um email com base no nome e sobrenome\n",
    "    email = f\"{first_name_email.lower()}.{last_name_email.lower()}@example.com\"\n",
    "\n",
    "    data = {\n",
    "        'ClienteID': i,\n",
    "        'Nome': first_name,\n",
    "        'Sobrenome': last_name,\n",
    "        'Idade': fake.random_int(min=18, max=80),\n",
    "        'CPF': fake.ssn(),\n",
    "        'Genero': gender,\n",
    "        'Telefone': fake.phone_number(),\n",
    "        'Email': email,\n",
    "        'CEP': fake.postcode(),\n",
    "        'Estado': fake.state(),\n",
    "        'Cidade': fake.city(),\n",
    "        'Endereco': fake.street_address(),\n",
    "        'LimiteCredito': random_int_with_step(10000, 1000000, 5000),\n",
    "        'Saldo': random.randint(0, 15000000)\n",
    "    } # obs: dinheiro esta em centavos para evitar usar o round\n",
    "\n",
    "    json_data.append(data)  # Adicionando os dados do cliente em uma lista\n",
    "\n",
    "# Salvando os dados em um arquivo JSON\n",
    "with open('clientes_brasil.json', 'w') as file:\n",
    "    json.dump(json_data, file, ensure_ascii=False, indent=4)"
   ]
  },
  {
   "cell_type": "markdown",
   "metadata": {
    "id": "ScgG9vTLUihH",
    "pycharm": {
     "name": "#%% md\n"
    }
   },
   "source": [
    "Isso criará um arquivo clients_brazil.json que terá a seguinte estrutura:\n",
    "```\n",
    "[\n",
    "    {\n",
    "        \"ClienteID\": 1,\n",
    "        \"Nome\": \"Isabel\",\n",
    "        \"Sobrenome\": \"Costa\",\n",
    "        \"Idade\": 57,\n",
    "        \"CPF\": \"39074128505\",\n",
    "        \"Genero\": \"feminino\",\n",
    "        \"Telefone\": \"+55 71 9212 6356\",\n",
    "        \"Email\": \"isabel.costa@example.com\",\n",
    "        \"CEP\": \"97685234\",\n",
    "        \"Estado\": \"Bahia\",\n",
    "        \"Cidade\": \"Moraes das Flores\",\n",
    "        \"Endereco\": \"Núcleo de Cavalcanti, 438\",\n",
    "        \"LimiteCredito\": 220000,\n",
    "        \"Saldo\": 10254450\n",
    "    }, ....\n",
    "]\n",
    "\n",
    "```\n",
    "\n"
   ]
  },
  {
   "cell_type": "markdown",
   "metadata": {
    "id": "a4sej7L7VOQZ",
    "pycharm": {
     "name": "#%% md\n"
    }
   },
   "source": [
    "Agora, precisamos gerar os dados com as informações de transações financeiras dos clientes.\n",
    "\n",
    "1º passo é carregar os dados pessoais de cada cliente e a lista de estabelecimentos onde o cliente vai realizar a transação.\n",
    "OBS: Essa última foi criada pelo chatGPT em formato json, veja o exemplo:\n",
    "\n",
    "\n",
    "\n",
    "```\n",
    "{ \"Estabelecimentos\": [\n",
    "    \"Mercado Econômico\",\n",
    "    \"Mercado do Bairro\",\n",
    "    \"Mercado da Economia\",\n",
    "    \"StreamFlix Entretenimento\",\n",
    "    \"StreamWave\",\n",
    "    \"StreamPlus\",\n",
    "    \"LuzBrilhante Energia\",\n",
    "    \"Energia Brilhante\",\n",
    "    \"Energia EcoPower\", ...\n",
    "  ]\n",
    "}\n",
    "```\n",
    "\n"
   ]
  },
  {
   "cell_type": "code",
   "execution_count": null,
   "metadata": {
    "id": "q411QULNVUVT",
    "pycharm": {
     "name": "#%%\n"
    }
   },
   "outputs": [],
   "source": [
    "import json\n",
    "\n",
    "# Carregar os dados dos clientes existentes\n",
    "with open('clientes_brasil.json', 'r') as clients_file:\n",
    "    clients_data = json.load(clients_file)\n",
    "\n",
    "# Carregar lista de estabelecimentos onde as transações foram realizadas\n",
    "with open('establishments_trans.json', 'r') as establishment_file:\n",
    "    establishment_data = json.load(establishment_file)"
   ]
  },
  {
   "cell_type": "markdown",
   "metadata": {
    "id": "rMd8dvui6PFc",
    "pycharm": {
     "name": "#%% md\n"
    }
   },
   "source": [
    "Agora vamos gerar transações financeiras dos clientes:"
   ]
  },
  {
   "cell_type": "code",
   "execution_count": null,
   "metadata": {
    "id": "LA0C8PiuIAYo",
    "pycharm": {
     "name": "#%%\n"
    }
   },
   "outputs": [],
   "source": [
    "import random\n",
    "from faker import Faker\n",
    "from datetime import datetime, timedelta\n",
    "\n",
    "# Gera números inteiros aleatórios em um intervalo min, max_value com steps.\n",
    "def random_int_with_step(min_value, max_value, step):\n",
    "    return random.randrange(min_value, max_value + 1, step)\n",
    "\n",
    "\n",
    "fake = Faker(locale='pt_BR')  # Inicia o faker\n",
    "date_today = datetime.now()  # Data atual\n",
    "date_yesterday = date_today - timedelta(days=1) # Data de ontem\n",
    "\n",
    "json_transf_data = []\n",
    "\n",
    "trans_type = ['debito', 'credito', 'pix'] # tipo de transação\n",
    "\n",
    "trans_ids = 0  # Definindo os IDs das transações, que serão unicos\n",
    "\n",
    "for client in clients_data:\n",
    "    # Definindo o available_balance como o saldo do cliente \"client\"\n",
    "    available_balance = client['Saldo']\n",
    "    # Limite do cartão de crédito do cliente\n",
    "    credit_limit = client['LimiteCredito']\n",
    "\n",
    "    # criando uma data e hora entre 30 dias atrás e 10 dias atrás em relação a data atual\n",
    "    start_date = fake.date_time_between(start_date=date_today - timedelta(days=30), end_date=date_today - timedelta(days=10))\n",
    "\n",
    "\n",
    "    # Gerando de 1 a 50 transações por cliente\n",
    "    for x in range(fake.random_int(min=1, max=50)):\n",
    "        trans_ids += 1  # Definindo um ID único p/ cada transação\n",
    "\n",
    "        # Gerando uma data aleatória que vai de start_date até a data atual\n",
    "        date_trans = fake.date_time_between(start_date=start_date, end_date=date_today)\n",
    "        # Gerando um tipo de transacao aleatorio\n",
    "        type_trans = random.choice(trans_type)\n",
    "\n",
    "        # Seleciona aleatoriamente um estabelecimento\n",
    "        establishment = random.choice(establishment_data['Estabelecimentos'])\n",
    "\n",
    "        # Gerando um valor de transação aleatório entre 100 e 1000000 cent\n",
    "        value = random.randint(100, 1000000)\n",
    "        #Info que serão adc por transação\n",
    "        transaction = {\n",
    "            'TransacaoID': trans_ids,\n",
    "            'ClienteID': client['ClienteID'],\n",
    "            'SaldoInicial': available_balance,\n",
    "            'LimiteCreditoInicial': credit_limit,\n",
    "            'TipoTransacao': type_trans,\n",
    "            'Valor': value,\n",
    "            'DataTransacao': str(date_trans),\n",
    "            'Estabelecimento': establishment,\n",
    "            'SaldoAtual': available_balance,\n",
    "            'LimiteCreditoAtual': credit_limit\n",
    "        }\n",
    "        # Se a transação for no debt ou pix, o valor da transação tem que ser\n",
    "        # menor ou igual ao Saldo disponivel na conta. Se satisfaz essa\n",
    "        # condição, temos uma transação autorizada e o dinheiro sai da conta.\n",
    "        # Caso o valor da transação seja maior que o saldo, a transação não\n",
    "        # é autorizada e o saldo permanece inalterado.\n",
    "\n",
    "        if type_trans == 'debito' or type_trans == 'pix':\n",
    "            if value <= available_balance:\n",
    "                available_balance -= value\n",
    "                transaction['Mensagem'] = 'Transacao autorizada'\n",
    "                transaction['SaldoAtual'] = available_balance\n",
    "            else:\n",
    "                transaction['Mensagem'] = 'Transacao nao autorizada'\n",
    "\n",
    "        # Se a transação for no crédito, o valor da transação tem que ser\n",
    "        # menor ou igual ao limite de crédito disponivel na conta. Se satisfaz\n",
    "        # essa condição, temos uma transação autorizada e o valor é descontado\n",
    "        # do limite. Se valor da transação for maior que o limite, a transação\n",
    "        # não é autorizada e o limite permanece inalterado.\n",
    "\n",
    "        else:\n",
    "            if value <= credit_limit:\n",
    "                credit_limit -= value\n",
    "                transaction['Mensagem'] = 'Transacao autorizada'\n",
    "                transaction['LimiteCreditoAtual'] = credit_limit\n",
    "            else:\n",
    "                transaction['Mensagem'] = 'Transacao nao autorizada'\n",
    "\n",
    "        json_transf_data.append(transaction)\n",
    "\n",
    "    # Novo saldo e limite do cartão de crédito que irá nas infos do cliente\n",
    "    client['Saldo'] = available_balance\n",
    "    client['LimiteCredito'] = credit_limit\n",
    "\n",
    "# Salvando as transacoes no arquivo transacoes_clients.json\n",
    "with open('transacoes_clientes.json', 'w') as file:\n",
    "    json.dump(json_transf_data, file, ensure_ascii=False, indent=4)\n",
    "\n",
    "# Atualizando os dados dos clientes no arquivo clientes_brasil.json\n",
    "with open('clientes_brasil.json', 'w') as file:\n",
    "    json.dump(clients_data, file, ensure_ascii=False, indent=4)"
   ]
  },
  {
   "cell_type": "markdown",
   "metadata": {
    "id": "EjMYujeiLRmD",
    "pycharm": {
     "name": "#%% md\n"
    }
   },
   "source": [
    "O arquivo gerado \"transacoes_clientes.json\" terá a seguinte cara:\n",
    "\n",
    "\n",
    "\n",
    "```\n",
    "    {\n",
    "        \"TransacaoID\": 3,\n",
    "        \"ClienteID\": 0,\n",
    "        \"SaldoInicial\": 9570636,\n",
    "        \"LimiteCreditoInicial\": 133265,\n",
    "        \"TipoTransacao\": \"pix\",\n",
    "        \"Valor\": 578332,\n",
    "        \"DataTransacao\": \"2023-08-29 05:01:04\",\n",
    "        \"Estabelecimento\": \"Cinemateca Vintage\",\n",
    "        \"SaldoAtual\": 8992304,\n",
    "        \"LimiteCreditoAtual\": 133265,\n",
    "        \"Mensagem\": \"Transacao autorizada\"\n",
    "    },\n",
    "    {\n",
    "        \"TransacaoID\": 4,\n",
    "        \"ClienteID\": 0,\n",
    "        \"SaldoInicial\": 8992304,\n",
    "        \"LimiteCreditoInicial\": 133265,\n",
    "        \"TipoTransacao\": \"credito\",\n",
    "        \"Valor\": 180703,\n",
    "        \"DataTransacao\": \"2023-09-02 05:57:21\",\n",
    "        \"Estabelecimento\": \"Mercado da Compra Inteligente\",\n",
    "        \"SaldoAtual\": 8992304,\n",
    "        \"LimiteCreditoAtual\": 133265,\n",
    "        \"Mensagem\": \"Transacao nao autorizada\"\n",
    "    }, ...\n",
    "```\n",
    "\n"
   ]
  },
  {
   "cell_type": "markdown",
   "metadata": {
    "id": "NGVhDTR7leov",
    "pycharm": {
     "name": "#%% md\n"
    }
   },
   "source": [
    "Agora que temos uma coleção de dados pessoais dos clientes e suas transações, vamos para o processo de Extrair os dados."
   ]
  },
  {
   "cell_type": "markdown",
   "metadata": {
    "id": "z96wWlXWShp7",
    "pycharm": {
     "name": "#%% md\n"
    }
   },
   "source": [
    "## **E**xtract"
   ]
  },
  {
   "cell_type": "code",
   "execution_count": null,
   "metadata": {
    "id": "qjljrT6eSoY3",
    "pycharm": {
     "name": "#%%\n"
    }
   },
   "outputs": [],
   "source": [
    "import json\n",
    "\n",
    "# Carregando os dados dos clientes existentes\n",
    "with open('clientes_brasil.json', 'r') as clients_file:\n",
    "    clients_data = json.load(clients_file)\n",
    "\n",
    "# Carregando as transações dos clientes\n",
    "with open('transacoes_clientes.json', 'r') as transaction_clients:\n",
    "    transaction_data = json.load(transaction_clients)\n",
    "\n"
   ]
  },
  {
   "cell_type": "markdown",
   "metadata": {
    "id": "EpGzqQ_LAr9C",
    "pycharm": {
     "name": "#%% md\n"
    }
   },
   "source": [
    "Oueremos treinar a IA para prever as categorias de cada estabelecimento. Para isso pedimos para o ChatGPT criar um arquivo json ('establishments_class.json') com nomes de estabelecimentos ficticios categorizados em ```[Lazer, Alimentação, Casa, Saúde, Streaming, Vestuário, Outros] ``` . O arquivo é exemplificado abaixo:\n",
    "\n",
    "\n",
    "\n",
    "```\n",
    "{\n",
    "  \"Alimentação\": [\n",
    "    \"Restaurante Sabor Brasileiro\",\n",
    "    \"Restaurante La Cucina\",\n",
    "    \"Café Parisiense\", ...],\n",
    "  \"Streaming\": [\n",
    "    \"StreamMundo Pro\",\n",
    "    \"MusicStream Plus\",\n",
    "    \"CinePlay Pro II\", ...],\n",
    "  \"Casa\": [\n",
    "    \"LuzBrilhante Energia\",\n",
    "    \"Condomínio Vale das Árvores II\",\n",
    "    \"Móveis Modernos Pro\", ...],\n",
    "  \"Lazer\": [\n",
    "    \"Cinema Starlight\",\n",
    "    \"PlayZone Entertainment II\",\n",
    "    \"GameMaster Arcade Plus\", ...],\n",
    "  \"Outros\": [\n",
    "    \"Empresa XYZ\",\n",
    "    \"Negócio ABC\",\n",
    "    \"Corporação Zeta\", ...],\n",
    "  \"Vestuário\": [\n",
    "    \"Fashion Express\",\n",
    "    \"Vestuário Moderno\",\n",
    "    \"Estilo Único\", ...],\n",
    "  \"Saúde\": [\n",
    "    \"Clínica SaúdeMais\",\n",
    "    \"Farmácia FolhaVerde\",\n",
    "    \"Hospital EsperançaRenovada\", ...]\n",
    "}\n",
    "```\n",
    "\n"
   ]
  },
  {
   "cell_type": "markdown",
   "metadata": {
    "id": "Z6LDIOK0EeEW",
    "pycharm": {
     "name": "#%% md\n"
    }
   },
   "source": [
    "Vamos agora treinar a IA usando o arquivo descrito acima, para  tentar prever as categorias dos estabelecimentos de cada transação e adicionar essa classificação nas transações de cada cliente."
   ]
  },
  {
   "cell_type": "markdown",
   "metadata": {
    "id": "k_nFLtiarGP0",
    "pycharm": {
     "name": "#%% md\n"
    }
   },
   "source": [
    "## **T**ransform"
   ]
  },
  {
   "cell_type": "code",
   "execution_count": null,
   "metadata": {
    "id": "q179GLaQqFBm",
    "pycharm": {
     "name": "#%%\n"
    }
   },
   "outputs": [],
   "source": [
    "import json\n",
    "from sklearn.feature_extraction.text import CountVectorizer\n",
    "from sklearn.naive_bayes import MultinomialNB\n",
    "from sklearn.metrics import accuracy_score\n",
    "import pandas as pd\n",
    "from sklearn.model_selection import train_test_split\n",
    "\n",
    "# Carregando os nomes dos estabelecimentos que vamos usar para treinar a IA\n",
    "with open('establishments_class.json', 'r') as establishment_file:\n",
    "    establishment_data = json.load(establishment_file)\n",
    "\n",
    "# Codificar as categorias em valores numéricos\n",
    "category_mapping = {\n",
    "    \"Lazer\": 0,\n",
    "    \"Alimentação\": 1,\n",
    "    \"Casa\": 2,\n",
    "    \"Streaming\": 3,\n",
    "    \"Vestuário\": 4,\n",
    "    \"Outros\": 5,\n",
    "    \"Saude\": 6\n",
    "}\n",
    "\n",
    "# Listas para armazenar as categorias e os estabelecimentos\n",
    "categories = []\n",
    "establishments = []\n",
    "\n",
    "# Iterando pelo establishment_data p/ extrair categorias e os estabelecimentos\n",
    "for category_name, establishment_list in establishment_data.items():\n",
    "    categories.extend([category_name] * len(establishment_list))\n",
    "    establishments.extend(establishment_list)\n",
    "\n",
    "X = establishments  # Armazena os nomes dos estabelecimentos\n",
    "# y contém as classes ou categorias a que cada instância pertence.\n",
    "y = [category_mapping[category] for category in categories]\n",
    "\n",
    "# Vamos dividir os dados em um conjunto de treinamento e um conjunto de teste.\n",
    "# test_size: 20% dos dados serão reservados p/ o conjunto de teste, enquanto 80% serão usados p/ o treinamento do modelo\n",
    "# random_state: garante que os resultados sejam consistentes e comparáveis entre diferentes execuções\n",
    "X_train, X_test, y_train, y_test = train_test_split(X, y, test_size=0.2, random_state=42)\n",
    "\n",
    "# Transformando texto em representação numérica\n",
    "vectorizer = CountVectorizer()\n",
    "X_train_vectorized = vectorizer.fit_transform(X_train)\n",
    "X_test_vectorized = vectorizer.transform(X_test)\n",
    "\n",
    "# Treinamos um modelo usando Naive Bayes, comum para tarefas de classificação de texto.\n",
    "classifier = MultinomialNB()\n",
    "# Treinamos o modelo (ajustar o modelo aos dados de treinamento)\n",
    "classifier.fit(X_train_vectorized, y_train)\n",
    "\n",
    "# Dicionário criado p/ realizar uma inversão das chaves e valores do dicionário category_mapping.\n",
    "category_mapping_inverse = {v: k for k, v in category_mapping.items()}\n",
    "\n",
    "\n",
    "for transaction in transaction_data:\n",
    "    establishment = transaction['Estabelecimento']\n",
    "    # Transformando o texto do estabelecimento em uma representação vetorial\n",
    "    establishment_vectorized = vectorizer.transform([establishment])\n",
    "    # Prevendo a categoria da transação com base na representação vetorial do estabelecimento\n",
    "    predict_category = classifier.predict(establishment_vectorized)[0]\n",
    "    # Atualizando o dict predict_data com a categoria prevista como chave e o estabelecimento\n",
    "    predict_data[predict_category] = establishment\n",
    "    predict_category = int(predict_category)\n",
    "    # Invertando predict_category que está numerica para seu respectivo nome\n",
    "    predict_category_name = category_mapping_inverse[predict_category]\n",
    "    # Atualizando as transações, adicionando a categoria prevista.\n",
    "    transaction['Categoria'] = predict_category_name\n",
    "\n",
    "\n",
    " # Se quisermos saber a acurácia do modelo:\n",
    "y_pred = classifier.predict(X_test_vectorized)\n",
    "accuracy = accuracy_score(y_test, y_pred)\n",
    "print(\"Acurácia do modelo:\", accuracy)\n",
    "\n",
    "\n",
    "\n",
    "\n",
    "\n"
   ]
  },
  {
   "cell_type": "markdown",
   "metadata": {
    "id": "V10bV8dFITZi",
    "pycharm": {
     "name": "#%% md\n"
    }
   },
   "source": [
    "## **L**oad"
   ]
  },
  {
   "cell_type": "code",
   "execution_count": null,
   "metadata": {
    "id": "J1x0_cMjIYIb",
    "pycharm": {
     "name": "#%%\n"
    }
   },
   "outputs": [],
   "source": [
    "# Salvando as transações atualizadas com a categoria do estabelecimento\n",
    "with open('transacoes_clients.json', 'w') as client_transaction_categories:\n",
    "    json.dump(transaction_data, client_transaction_categories,\n",
    "              ensure_ascii=False, indent=4, default=str)"
   ]
  },
  {
   "cell_type": "markdown",
   "metadata": {
    "id": "HD-ntSNQ3_iV",
    "pycharm": {
     "name": "#%% md\n"
    }
   },
   "source": [
    "Agora, as informações de cada transação contará com a categoria prevista do estabelecimento:\n",
    "\n",
    "    {\n",
    "        \"TransacaoID\": 2,\n",
    "        \"ClienteID\": 0,\n",
    "        \"SaldoInicial\": 2529902,\n",
    "        \"LimiteCreditoInicial\": 925000,\n",
    "        \"TipoTransacao\": \"debito\",\n",
    "        \"Valor\": 345326,\n",
    "        \"DataTransacao\": \"2023-08-23 20:59:51\",\n",
    "        \"Estabelecimento\": \"Tendências Urbanas\",\n",
    "        \"SaldoAtual\": 2184576,\n",
    "        \"LimiteCreditoAtual\": 925000,\n",
    "        \"Mensagem\": \"Transacao autorizada\",\n",
    "        \"Categoria\": \"Vestuário\"\n",
    "    },\n",
    "\n",
    "\n",
    "\n"
   ]
  },
  {
   "cell_type": "markdown",
   "metadata": {
    "id": "dj6gZEhUJzPX",
    "pycharm": {
     "name": "#%% md\n"
    }
   },
   "source": [
    "Vamos ir além e criar um código que gera gráficos com as porcentagens de gastos por categoria para o cliente desejado."
   ]
  },
  {
   "cell_type": "code",
   "execution_count": null,
   "metadata": {
    "id": "VDcz7xFUwtKg",
    "pycharm": {
     "name": "#%%\n"
    }
   },
   "outputs": [],
   "source": [
    "import json\n",
    "import matplotlib.pyplot as plt\n",
    "from collections import defaultdict  # Importa defaultdict para criar dicionários com valores padrão.\n",
    "import numpy as np\n",
    "import locale  # Importa a biblioteca locale para formatação de números com notação local.\n",
    "\n",
    "locale.setlocale(locale.LC_ALL, 'pt_BR.utf8')  # Configurando a localização para o formato de moeda brasileira.\n",
    "\n",
    "with open('transacoes_clientes.json', 'r') as file:\n",
    "    data = json.load(file)\n",
    "\n",
    "spending_by_customer_category = defaultdict(lambda: defaultdict(int)) # Dicionário p/ armazenar os gastos por cliente e categoria.\n",
    "\n",
    "# Extraindo infos de data.\n",
    "for transaction in data:\n",
    "    customer_id = transaction[\"ClienteID\"]\n",
    "    category = transaction[\"Categoria\"]\n",
    "    value = transaction[\"Valor\"]\n",
    "    spending_by_customer_category[customer_id][category] += value # Preenchendo o dicionário com os gastos a partir de data.\n",
    "\n",
    "percentages_by_customer = {} # Dicionário para armazenar as porcentagens de gastos por cliente.\n",
    "\n",
    "# Calculando as porcentagens de gastos para cada cliente.\n",
    "for customer_id, spending_by_category in spending_by_customer_category.items():\n",
    "    total_spent = sum(spending_by_category.values()) # total gasto por cliente.\n",
    "    # Porcentagens de gastos em cada categoria em relação ao total gasto em todas as categorias.\n",
    "    percentages = {str(category): (spent / total_spent) * 100 for category, spent in spending_by_category.items()}\n",
    "    percentages_by_customer[customer_id] = percentages # Armazenando as porcentagens de gastos por cliente.\n",
    "\n",
    "# Determinando o menor e o maior ClienteID disponíveis.\n",
    "existing_customers = list(percentages_by_customer.keys())\n",
    "customer_id_min, customer_id_max = min(existing_customers), max(existing_customers)\n",
    "\n",
    "# Esse trecho faz uma solicitação ao usuário p/ que ele insira um ClienteID dentro do intervalo permitido.\n",
    "while True:\n",
    "    customer_id_input = input(f\"Digite um ClienteID entre {customer_id_min} e {customer_id_max}: \")\n",
    "    try:\n",
    "        customer_id_input = int(customer_id_input)\n",
    "        if customer_id_min <= customer_id_input <= customer_id_max:\n",
    "            break  # Sai do loop se o valor estiver dentro do intervalo.\n",
    "        else:\n",
    "            print(\"ClienteID fora do intervalo permitido.\")\n",
    "    except ValueError:\n",
    "        print(\"Por favor, digite um número inteiro válido.\")\n",
    "\n",
    "customer_percentages = percentages_by_customer.get(customer_id_input) # Acessa as porcentagens de gastos do ClienteID fornecido.\n",
    "\n",
    "if customer_percentages:\n",
    "    labels = list(customer_percentages.keys()) # Lista contendo os nomes das categoria.\n",
    "    sizes = list(customer_percentages.values()) # Lista contendo as porcentagens de gastos correspondentes a cada categoria.\n",
    "    total_spent_client = sum(spending_by_customer_category[customer_id_input].values()) # valor total gasto pelo cliente.\n",
    "    # Convertendo o total gasto por cliente em reais\n",
    "    total_spent_client_reais = locale.format_string(\"%.2f\", total_spent_client / 100, grouping=True)\n",
    "\n",
    "    # Criando uma figura e um eixo para o gráfico de donut.\n",
    "    fig, ax = plt.subplots(figsize=(8.5, 6), subplot_kw=dict(aspect=\"equal\"))\n",
    "    # Definindo as cores do gráfico\n",
    "    colors = ['pink', 'lightgreen', 'lightcoral', 'lightsalmon', 'skyblue', 'mediumpurple', 'lightseagreen']\n",
    "\n",
    "    recipe = list(labels)\n",
    "    data = list(sizes)\n",
    "\n",
    "# Parâmetros criar e formatar aqui \"caixas\" onde as legendas ficarão.\n",
    "bbox_props = dict(boxstyle=\"square,pad=0.35\", fc=\"w\", ec=\"k\", lw=0.52)\n",
    "kw = dict(arrowprops=dict(arrowstyle=\"-\"), bbox=bbox_props, zorder=0, va=\"center\") # Parâmetros para as anotações no gráfico.\n",
    "\n",
    "\n",
    "num_categories = len(sizes) # Número de categorias.\n",
    "explode = [0.01] * num_categories # Valores para separar as fatias no gráfico de 'pizza'.\n",
    "\n",
    "# Dicionário que mapeia os labels de categorias para porcentagens de gastos.\n",
    "annotate_dict = {k: v for k, v in zip(labels, sizes)}\n",
    "\n",
    "# Lista com pares ordenados de valores ordenados em ordem decrescente.\n",
    "val = [[x, y] for x, y in zip(sorted(sizes, reverse=True), sorted(sizes))]\n",
    "\n",
    "# Lista que contém todos os valores do 'val' em uma única lista.\n",
    "values1 = sum(val, [])\n",
    "new_labels = []\n",
    "\n",
    "for v in values1[:len(sizes)]: # Vamos iterar através dos valores em 'values1'.\n",
    "    for key, value in annotate_dict.items(): # Iterar através de annotate_dict p/ encontrar o label correspondente ao valor.\n",
    "        # Se o valor atual corresponder ao valor no dicionário, adicionamos o label à lista 'new_labels'.\n",
    "        if v == value:\n",
    "            new_labels.append(key)\n",
    "\n",
    "    # Criando as \"fatias\" do gráfico.\n",
    "    wedges, texts = ax.pie(values1[:len(sizes)],\n",
    "                            explode=explode,\n",
    "                            labeldistance=1.2, startangle=90, colors=colors)\n",
    "\n",
    "    # Add um círculo branco no centro para criar o efeito de donut.\n",
    "    circle = plt.Circle((0, 0), 0.70, fc='white')\n",
    "    ax.add_artist(circle)\n",
    "    ax.axis('equal')  # Garante que o gráfico seja um circulo perfeito.\n",
    "\n",
    "    # Add um texto com o ClienteID e o total gasto pelo cliente no centro do circulo branco, em reais.\n",
    "    ax.text(0.0, 0.2, f'ClienteID: {customer_id_input}', fontsize=12, ha='center', va='center')\n",
    "    ax.text(0.0, -0.05, f'R$ {total_spent_client_reais}', fontsize=12, ha='center', va='center')\n",
    "    ax.text(0.0, 0.05, f'Total Gasto:', fontsize=12, ha='center', va='center')\n",
    "\n",
    "\n",
    "    # Anotações com os rótulos e porcentagens nos setores do gráfico.\n",
    "    for i, p in enumerate(wedges):\n",
    "        ang = (p.theta2 - p.theta1) / 2. + p.theta1\n",
    "        y = np.sin(np.deg2rad(ang))\n",
    "        x = np.cos(np.deg2rad(ang))\n",
    "        horizontalalignment = {-1: \"right\", 1: \"left\"}[int(np.sign(x))]\n",
    "        connectionstyle = \"angle,angleA=0,angleB={}\".format(ang)\n",
    "        kw[\"arrowprops\"].update({\"connectionstyle\": connectionstyle})\n",
    "        ax.annotate(f'{new_labels[i]}: {values1[:len(sizes)][i]:.2f}%', xy=(x, y), xytext=(1.15 * np.sign(x), 1.25 * y),\n",
    "                     horizontalalignment=horizontalalignment, **kw)\n",
    "    plt.show()\n",
    "else:\n",
    "    print(f\"ClienteID {customer_id_input} não encontrado.\") # Mostra mensagem \"ClienteID X não encontrado caso X nao exista.\"\n"
   ]
  },
  {
   "cell_type": "markdown",
   "metadata": {
    "id": "YRTdfYhSFtHt",
    "pycharm": {
     "name": "#%% md\n"
    }
   },
   "source": [
    "O código acima irá gerar uma imagem do tipo:\n",
    "\n",
    "![ClienteID_13.png](data:image/png;base64,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)"
   ]
  }
 ],
 "metadata": {
  "colab": {
   "provenance": []
  },
  "kernelspec": {
   "display_name": "Python 3 (ipykernel)",
   "language": "python",
   "name": "python3"
  },
  "language_info": {
   "codemirror_mode": {
    "name": "ipython",
    "version": 3
   },
   "file_extension": ".py",
   "mimetype": "text/x-python",
   "name": "python",
   "nbconvert_exporter": "python",
   "pygments_lexer": "ipython3",
   "version": "3.8.10"
  }
 },
 "nbformat": 4,
 "nbformat_minor": 4
}